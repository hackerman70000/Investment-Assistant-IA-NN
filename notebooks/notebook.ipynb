{
 "cells": [
  {
   "cell_type": "code",
   "execution_count": null,
   "metadata": {},
   "outputs": [],
   "source": [
    "pip install -r requirements.txt"
   ]
  },
  {
   "cell_type": "markdown",
   "metadata": {},
   "source": [
    "!mkdir -p models/prediction"
   ]
  },
  {
   "cell_type": "code",
   "execution_count": null,
   "metadata": {},
   "outputs": [],
   "source": [
    "!git clone repo"
   ]
  },
  {
   "cell_type": "code",
   "execution_count": null,
   "metadata": {},
   "outputs": [],
   "source": [
    "%cd repo"
   ]
  },
  {
   "cell_type": "code",
   "execution_count": null,
   "metadata": {},
   "outputs": [],
   "source": [
    "import sys\n",
    "sys.path.append('/content/repo')"
   ]
  },
  {
   "cell_type": "code",
   "execution_count": null,
   "metadata": {},
   "outputs": [],
   "source": [
    "import os\n",
    "import pandas as pd\n",
    "import numpy as np\n",
    "import tensorflow as tf\n",
    "from datetime import datetime\n",
    "import pytz\n",
    "import requests\n",
    "\n",
    "from src.scraper.scraper import Scraper, setup_logging\n",
    "from src.training.trainer import Trainer, load_config\n",
    "from src.prediction.predictor import Prediction"
   ]
  },
  {
   "cell_type": "code",
   "execution_count": null,
   "metadata": {},
   "outputs": [],
   "source": [
    "setup_logging()\n",
    "\n",
    "scraper = Scraper(\n",
    "    symbol=\"BTCUSDT\",\n",
    "    interval=\"1h\",\n",
    "    start_date=datetime(2022, 1, 1),\n",
    "    end_date=datetime.now(),\n",
    "    directory=\"data/raw\",\n",
    "    verify_checksum=True\n",
    ")\n",
    "scraper.run()"
   ]
  },
  {
   "cell_type": "code",
   "execution_count": null,
   "metadata": {},
   "outputs": [],
   "source": [
    "config = load_config()\n",
    "\n",
    "trainer = Trainer(\n",
    "    symbol=config[\"symbol\"],\n",
    "    interval=config[\"interval\"],\n",
    "    price_delta=config[\"price_delta\"],\n",
    "    num_intervals=config[\"num_intervals\"],\n",
    "    prediction_klines_pct=config[\"prediction_klines_pct\"],\n",
    "    epochs=config[\"epochs\"],\n",
    "    batch_size=config[\"batch_size\"],\n",
    "    patience=config[\"patience\"],\n",
    ")\n",
    "trainer.run()"
   ]
  },
  {
   "cell_type": "code",
   "execution_count": null,
   "metadata": {},
   "outputs": [],
   "source": [
    "config = {\n",
    "    \"symbol\": \"BTCUSDT\",\n",
    "    \"interval\": \"1h\",\n",
    "    \"price_delta\": 1.015,\n",
    "    \"num_intervals\": 12,\n",
    "    \"timezone\": \"Europe/Warsaw\",\n",
    "    \"limit\": 1000,\n",
    "    \"directory\": \"data/raw\",\n",
    "    \"filename\": \"market_data\",\n",
    "}\n",
    "\n",
    "model = Prediction(config)\n",
    "model.run_prediction()"
   ]
  }
 ],
 "metadata": {
  "language_info": {
   "name": "python"
  }
 },
 "nbformat": 4,
 "nbformat_minor": 2
}
